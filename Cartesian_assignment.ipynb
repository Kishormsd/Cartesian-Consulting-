{
  "cells": [
    {
      "cell_type": "code",
      "execution_count": null,
      "metadata": {
        "id": "qWqRuQeGTyJj"
      },
      "outputs": [],
      "source": [
        "a=input().strip().split(\" \")\n",
        "b=\" \".join(a[::-1]).capitalize()\n",
        "print(b)"
      ]
    },
    {
      "cell_type": "code",
      "execution_count": null,
      "metadata": {
        "id": "fFSqkhMpTyJu",
        "outputId": "d37c5274-91d5-4675-d667-30ccef68aa0e"
      },
      "outputs": [
        {
          "name": "stdout",
          "output_type": "stream",
          "text": [
            "['This', 'declaration', 'represents', 'a', 'political', 'commitment', 'among', 'declaration', 'partners', 'to', 'advance', 'a', 'positive', 'vision', 'for', 'the', 'Internet', 'in', 'this', 'era', 'of', 'a', 'united', 'europe']\n"
          ]
        }
      ],
      "source": [
        "print(a)"
      ]
    },
    {
      "cell_type": "code",
      "execution_count": null,
      "metadata": {
        "id": "vf4T6Yc6TyJw",
        "outputId": "bb0b61ff-80e5-4781-d56f-a9c20c932d9d"
      },
      "outputs": [
        {
          "name": "stdout",
          "output_type": "stream",
          "text": [
            "a    :3\n",
            "this    :2\n"
          ]
        }
      ],
      "source": [
        "c=b.strip().split(\" \")\n",
        "dic={}\n",
        "for i in c:\n",
        "    if i not in dic:\n",
        "        dic.update({i:c.count(i)})\n",
        "sort_dic = sorted(dic.items(), key=lambda x: x[1], reverse=True)\n",
        "print(sort_dic[0][0]+\"    :\"+str(sort_dic[0][1]))\n",
        "print(sort_dic[1][0]+\"    :\"+str(sort_dic[1][1]))"
      ]
    },
    {
      "cell_type": "code",
      "execution_count": null,
      "metadata": {
        "id": "cUoQC-CuTyJy"
      },
      "outputs": [],
      "source": []
    },
    {
      "cell_type": "code",
      "execution_count": null,
      "metadata": {
        "id": "iXkPlsJyTyJz"
      },
      "outputs": [],
      "source": []
    },
    {
      "cell_type": "code",
      "execution_count": null,
      "metadata": {
        "id": "qLqfdP3CTyJ0"
      },
      "outputs": [],
      "source": []
    }
  ],
  "metadata": {
    "kernelspec": {
      "display_name": "Python 3",
      "language": "python",
      "name": "python3"
    },
    "language_info": {
      "codemirror_mode": {
        "name": "ipython",
        "version": 3
      },
      "file_extension": ".py",
      "mimetype": "text/x-python",
      "name": "python",
      "nbconvert_exporter": "python",
      "pygments_lexer": "ipython3",
      "version": "3.8.3"
    },
    "colab": {
      "name": "Cartesian assignment.ipynb",
      "provenance": []
    }
  },
  "nbformat": 4,
  "nbformat_minor": 0
}